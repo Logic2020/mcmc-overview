{
 "cells": [
  {
   "cell_type": "markdown",
   "id": "e0b8bb78-a028-4d99-9384-72e3316f4d85",
   "metadata": {},
   "source": [
    "### Find equation parameters to fit data via MCMC ###\n",
    "2/17/23\n",
    "\n",
    "#### Project Plan ####\n",
    "1. Define problem\n",
    "2. Create artifical observational data\n",
    "3. Choose Posterior Density Function\n",
    "4. Choose Proposal Distribution\n",
    "5. Specify prior ranges for the parameters\n",
    "6. MCMC Metropolis Hastinging Algorithm\n",
    "7. Model Efficiency and convergence\n",
    "8. Summary"
   ]
  },
  {
   "cell_type": "markdown",
   "id": "452d6615",
   "metadata": {},
   "source": [
    "#### 1. Define problem and desired output ####\n",
    "\n",
    "**Intent:**\n",
    "\n",
    "To test my understanding and implementation of MCMC, I created artificial observations from a known function, f(x) = exp(x^1.25).\n",
    "\n",
    "**Business Problem:**\n",
    "\n",
    "This exercise isn't tied to a real business problem, but to understand better the real-world applicable of MCMC and the types of business problems it can help answer, I created a made-up business problem behind the data. Our artifical observational data will represent **exponential bacterial hourly growth rate in a specific habitat**. \n",
    "\n",
    "I would like to be able to answer the following questions:\n",
    "\n",
    "1. What is the expected average bacteria amount for this habitat?\n",
    "2. What is the probability that the bacteria population is greater than 8 in this habitat?\n",
    "3. What is the likelihood that a newly observed bacteria sample is part of this same population?"
   ]
  },
  {
   "cell_type": "code",
   "execution_count": 3,
   "id": "bc325350-35f6-44c4-b725-64292c858649",
   "metadata": {},
   "outputs": [],
   "source": [
    "# import packages\n",
    "import numpy as np\n",
    "import statistics\n",
    "import math\n",
    "from scipy import stats\n",
    "import pandas as pd\n",
    "import matplotlib.pyplot as plt\n",
    "\n",
    "colors = ['#348ABD', '#A60628', '#7A68A6', '#467821', '#D55E00', \n",
    "          '#CC79A7', '#56B4E9', '#009E73', '#F0E442', '#0072B2']"
   ]
  },
  {
   "cell_type": "markdown",
   "id": "ef9b0ebe",
   "metadata": {},
   "source": [
    "#### 2. Create artifical observational data ####"
   ]
  },
  {
   "cell_type": "code",
   "execution_count": 4,
   "id": "6e0ae3e4-a839-42a5-820a-2d5aca3ddb87",
   "metadata": {},
   "outputs": [
    {
     "data": {
      "text/html": [
       "<div>\n",
       "<style scoped>\n",
       "    .dataframe tbody tr th:only-of-type {\n",
       "        vertical-align: middle;\n",
       "    }\n",
       "\n",
       "    .dataframe tbody tr th {\n",
       "        vertical-align: top;\n",
       "    }\n",
       "\n",
       "    .dataframe thead th {\n",
       "        text-align: right;\n",
       "    }\n",
       "</style>\n",
       "<table border=\"1\" class=\"dataframe\">\n",
       "  <thead>\n",
       "    <tr style=\"text-align: right;\">\n",
       "      <th></th>\n",
       "      <th>sq_in</th>\n",
       "      <th>bact_pop</th>\n",
       "      <th>r</th>\n",
       "    </tr>\n",
       "  </thead>\n",
       "  <tbody>\n",
       "    <tr>\n",
       "      <th>0</th>\n",
       "      <td>1.418967</td>\n",
       "      <td>4.679932</td>\n",
       "      <td>1.24</td>\n",
       "    </tr>\n",
       "    <tr>\n",
       "      <th>1</th>\n",
       "      <td>1.524880</td>\n",
       "      <td>5.367024</td>\n",
       "      <td>1.23</td>\n",
       "    </tr>\n",
       "    <tr>\n",
       "      <th>2</th>\n",
       "      <td>1.525370</td>\n",
       "      <td>5.408918</td>\n",
       "      <td>1.24</td>\n",
       "    </tr>\n",
       "    <tr>\n",
       "      <th>3</th>\n",
       "      <td>1.632789</td>\n",
       "      <td>6.275659</td>\n",
       "      <td>1.24</td>\n",
       "    </tr>\n",
       "    <tr>\n",
       "      <th>4</th>\n",
       "      <td>1.191595</td>\n",
       "      <td>3.465284</td>\n",
       "      <td>1.24</td>\n",
       "    </tr>\n",
       "  </tbody>\n",
       "</table>\n",
       "</div>"
      ],
      "text/plain": [
       "      sq_in  bact_pop     r\n",
       "0  1.418967  4.679932  1.24\n",
       "1  1.524880  5.367024  1.23\n",
       "2  1.525370  5.408918  1.24\n",
       "3  1.632789  6.275659  1.24\n",
       "4  1.191595  3.465284  1.24"
      ]
     },
     "execution_count": 4,
     "metadata": {},
     "output_type": "execute_result"
    }
   ],
   "source": [
    "# generate a dataset that follows this equation generally to simulate\n",
    "# as if we were to collect data that was shaped in a way to fit this function\n",
    "x=[]\n",
    "r=[]\n",
    "fx=[]\n",
    "\n",
    "# equation to generate the observations\n",
    "def equation(x,r):\n",
    "    f=math.exp(x**r)\n",
    "    return f\n",
    "\n",
    "# generate observations\n",
    "for i in range(2000):\n",
    "    random_x=np.random.uniform(1,2)\n",
    "    random_r=round(np.random.uniform(1.22, 1.26),2)\n",
    "    x.append(random_x)\n",
    "    r.append(random_r)\n",
    "    #print(random_x)\n",
    "    #print(random_r)\n",
    "    f=equation(random_x,random_r)\n",
    "    fx.append(f)\n",
    "    \n",
    "# Save observations in dataframe\n",
    "data=pd.DataFrame({'sq_in':x, 'bact_pop':fx, 'r':r})\n",
    "data.head()"
   ]
  },
  {
   "cell_type": "code",
   "execution_count": 5,
   "id": "4422e6da-4e90-4449-8f84-1d4389cb40e6",
   "metadata": {
    "scrolled": true
   },
   "outputs": [
    {
     "data": {
      "image/png": "[encoded data removed]",
      "text/plain": [
       "<Figure size 640x480 with 1 Axes>"
      ]
     },
     "metadata": {},
     "output_type": "display_data"
    }
   ],
   "source": [
    "# plot of observational data\n",
    "plt.scatter(data.sq_in, data.bact_pop, color=colors[6])\n",
    "plt.xlabel(\"area of habitat, sq. in.\")\n",
    "plt.ylabel(\"amount of bacteria\")\n",
    "plt.title(\"Bacterial Growth Rate\")\n",
    "plt.show()"
   ]
  },
  {
   "cell_type": "markdown",
   "id": "486eac42",
   "metadata": {},
   "source": [
    "Plot probability distribution of observational data"
   ]
  },
  {
   "cell_type": "code",
   "execution_count": 6,
   "id": "fc28fd39",
   "metadata": {},
   "outputs": [
    {
     "data": {
      "image/png": "[encoded data removed]",
      "text/plain": [
       "<Figure size 640x480 with 1 Axes>"
      ]
     },
     "metadata": {},
     "output_type": "display_data"
    }
   ],
   "source": [
    "# Plot probability distribution of bacteria amount\n",
    "plt.hist(data.bact_pop,density=True, color=colors[5])\n",
    "plt.show()"
   ]
  },
  {
   "cell_type": "markdown",
   "id": "f67bb1cb",
   "metadata": {},
   "source": [
    "#### 3. Choose Posterior Density Function ####\n",
    "\n",
    "Based on the probability distribution of bacteria amount the shape matches an exponential distribution. The PDF is expressed as:\n",
    "\n",
    "f(d; L) = L * e^(-L * d)\n",
    "\n",
    "where _L_ represents lambda, the parameter we want to estimate\n",
    "\n",
    "**Posterior Likelihood:**\n",
    "\n",
    "Using the exponential PDF as our posterior density function, we can estimate the likelihood of seeing our observations (specifically the bacterial amount) given a specific value of _L_. The likelihood gives insight into which _L_ values fit the observational data better. I will use the log likelihood since some of the output values can be extremely small."
   ]
  },
  {
   "cell_type": "code",
   "execution_count": 7,
   "id": "ff216112",
   "metadata": {},
   "outputs": [],
   "source": [
    "def log_posterior_likelihood(data_y, L):\n",
    "    densities=[]\n",
    "    for d in data_y.tolist():\n",
    "        out=math.log(L * math.exp(-L * d))\n",
    "        densities.append(out)\n",
    "    \n",
    "    # when finding log likelihood, densities are summed, not multiplied\n",
    "    log_likelihood=sum(densities)\n",
    "    return(log_likelihood)"
   ]
  },
  {
   "attachments": {
    "image-2.png": {
     "image/png": "[encoded data removed]"
    }
   },
   "cell_type": "markdown",
   "id": "7d8e8f9f",
   "metadata": {},
   "source": [
    "#### 4. Choose Proposal Distribution ####\n",
    "\n",
    "For drawing the next proposal parameter value, I'll use the Gaussian distribution with mean at current position and a set standard deviation, N~(xi, sd=2).\n",
    "\n",
    "Since the mean of the distribution will be current position and the standard deviation is fixed, this proposal distribution is symmetric so the ratio of proposal densities is 1.\n",
    "\n",
    "![image-2.png](attachment:image-2.png)\n"
   ]
  },
  {
   "cell_type": "code",
   "execution_count": 8,
   "id": "b508b712",
   "metadata": {},
   "outputs": [],
   "source": [
    "##### Proposal Distribution #####\n",
    "def gaussian_proposal(x, sigma=2):\n",
    "    # For random samples from the normal distribution with mean mu and standard deviation sigma, use:\n",
    "    x_next = sigma * np.random.randn() + x\n",
    "\n",
    "    return (x_next)"
   ]
  },
  {
   "cell_type": "code",
   "execution_count": 9,
   "id": "75581839",
   "metadata": {},
   "outputs": [],
   "source": [
    "def log_gaussian_likelihood(x_current, x_next, sigma=2):\n",
    "    # the proposal distribution is symmetric so the ratio of proposal densities g(.) is 1, but including the math for transparency\n",
    "    \n",
    "    # g(xi | x*)\n",
    "    log_g_num= math.log((math.exp(-((x_current-x_next)**2) / (2*sigma)))/(sigma * math.sqrt(2*math.pi)))\n",
    "    \n",
    "    # g(x* | xi)\n",
    "    log_g_denom= math.log((math.exp(-((x_next-x_current)**2) / (2*sigma)))/(sigma * math.sqrt(2*math.pi)))\n",
    "    \n",
    "    log_g_likelihood=log_g_num - log_g_denom\n",
    "    \n",
    "    return(log_g_likelihood)\n",
    "    "
   ]
  },
  {
   "cell_type": "markdown",
   "id": "b5a07947",
   "metadata": {},
   "source": [
    "#### 5. Specify prior ranges for the parameters ####\n",
    "Since I know that _r_ should be positive and greater than 0, I will include these as parameter priors."
   ]
  },
  {
   "cell_type": "code",
   "execution_count": 10,
   "id": "7d55f74a",
   "metadata": {},
   "outputs": [],
   "source": [
    "def parameter_priors_check(x):\n",
    "    # r should be positive and greater than 0\n",
    "    if x > 0:\n",
    "        return x\n",
    "    else:\n",
    "        return 0"
   ]
  },
  {
   "cell_type": "markdown",
   "id": "7ce349be",
   "metadata": {},
   "source": [
    "#### 6. MCMC Metropolis Hastinging Algorithm ####"
   ]
  },
  {
   "cell_type": "markdown",
   "id": "0a77e69c",
   "metadata": {},
   "source": [
    "**Choose Initial State**"
   ]
  },
  {
   "cell_type": "code",
   "execution_count": 11,
   "id": "1c2ebd3e-d41f-435e-a923-fae2a2df3ddf",
   "metadata": {},
   "outputs": [],
   "source": [
    "##### Choose initial State #####\n",
    "r0=1.5"
   ]
  },
  {
   "cell_type": "markdown",
   "id": "c0cbf893",
   "metadata": {},
   "source": [
    "**Metropolis Hastings Algorithm**"
   ]
  },
  {
   "cell_type": "code",
   "execution_count": 12,
   "id": "9eda4921-b96a-4b35-84c0-f22b9c441840",
   "metadata": {
    "scrolled": true
   },
   "outputs": [],
   "source": [
    "# Iterations of the algorithm\n",
    "iters=1000\n",
    "sd=0.1\n",
    "counter=0\n",
    "\n",
    "counter_list=[]\n",
    "r_current=[]\n",
    "r_next_proposed=[]\n",
    "g_ratio_stored=[]\n",
    "p_ratio_stored=[]\n",
    "likelihood_ratio=[]\n",
    "uniform_draw=[]\n",
    "jump_accepted=[]\n",
    "\n",
    "\n",
    "for i in np.arange(iters): #The default start value is 0\n",
    "    # What chain link we are on\n",
    "    counter_list.append(counter)\n",
    "    \n",
    "    # Current parameter (either the inital value if counter==1, or value from last chain)\n",
    "    if counter==0:\n",
    "        x_current=r0\n",
    "        r_current.append(r0)\n",
    "    else:\n",
    "        x_current=r_current[i]\n",
    "        \n",
    "     \n",
    "    \n",
    "    # Next parameter proposed with Jump Proposal I\n",
    "    x_next= gaussian_proposal(x_current, sigma=sd)\n",
    "    r_next_proposed.append(x_next)\n",
    "    \n",
    "    # Calculate Acceptance Probability or Hastings Ratio after priors check\n",
    "    if x_next > 0:\n",
    "        # g(.)\n",
    "        g_ratio= log_gaussian_likelihood(x_current, x_next, sigma=sd)\n",
    "        g_ratio_stored.append(g_ratio)\n",
    "        \n",
    "        # p(.)\n",
    "        p_ratio=log_posterior_likelihood(data_y=data.bact_pop, L=x_next) - log_posterior_likelihood(data_y=data.bact_pop, L=x_current)\n",
    "        p_ratio_stored.append(p_ratio) \n",
    "        \n",
    "        # hastings ratio -> p(.) * g(.) or \n",
    "        # when using log likelihood --> log(u) <= log( p(new) ) - log( p(old) ) + log( g(old) ) - log( g(new) )\n",
    "        right_side_of_acceptance_equation=min(1,g_ratio + p_ratio)    \n",
    "        likelihood_ratio.append(g_ratio + p_ratio)\n",
    "        \n",
    "    else:\n",
    "        g_ratio_stored.append(0)\n",
    "        p_ratio_stored.append(0)\n",
    "        likelihood_ratio.append(0)\n",
    "        uniform_draw.append(0)\n",
    "        jump_accepted.append(0)\n",
    "        if i!=(iters-1):\n",
    "            r_current.append(x_current)\n",
    "        else: pass\n",
    "        counter += 1    \n",
    "        continue\n",
    "    \n",
    "    # Generate a random number u from Uniform(0,1)\n",
    "    u = np.random.uniform(0.0001, 1)\n",
    "    uniform_draw.append(u)\n",
    "    \n",
    "    # Evaluate acceptance criteria\n",
    "    if math.log(u) < right_side_of_acceptance_equation:\n",
    "        if i==(iters-1):\n",
    "            jump_accepted.append(1)\n",
    "        else:\n",
    "            jump_accepted.append(1)\n",
    "            r_current.append(x_next)\n",
    "        counter += 1\n",
    "    else:\n",
    "        if i==(iters-1):\n",
    "            jump_accepted.append(0)\n",
    "        else:\n",
    "            jump_accepted.append(0)\n",
    "            r_current.append(x_current)\n",
    "        counter += 1"
   ]
  },
  {
   "cell_type": "code",
   "execution_count": 13,
   "id": "1b54317e",
   "metadata": {
    "scrolled": true
   },
   "outputs": [
    {
     "name": "stdout",
     "output_type": "stream",
     "text": [
      "1000\n",
      "1000\n",
      "1000\n",
      "1000\n",
      "1000\n",
      "1000\n",
      "1000\n",
      "1000\n"
     ]
    }
   ],
   "source": [
    "# Ensure all output lists are the same length before transforming into dataframe\n",
    "cols=[counter_list,r_current,r_next_proposed,g_ratio_stored,p_ratio_stored,likelihood_ratio,uniform_draw,jump_accepted]\n",
    "\n",
    "for c in cols:\n",
    "    print(len(c))"
   ]
  },
  {
   "cell_type": "code",
   "execution_count": 14,
   "id": "5b2ee816",
   "metadata": {},
   "outputs": [],
   "source": [
    "mcmc_output=pd.DataFrame({'chain':counter_list,\n",
    "                            'r_current':r_current,\n",
    "                            'r_proposed_next':r_next_proposed,\n",
    "                            'g_ratio':g_ratio_stored,\n",
    "                            'p_ratio':p_ratio_stored,\n",
    "                            'likelihood_ratio':likelihood_ratio,\n",
    "                            'u':uniform_draw,\n",
    "                            'jump_accepted':jump_accepted\n",
    "                         })"
   ]
  },
  {
   "cell_type": "code",
   "execution_count": 15,
   "id": "839a6c36",
   "metadata": {},
   "outputs": [
    {
     "data": {
      "text/html": [
       "<div>\n",
       "<style scoped>\n",
       "    .dataframe tbody tr th:only-of-type {\n",
       "        vertical-align: middle;\n",
       "    }\n",
       "\n",
       "    .dataframe tbody tr th {\n",
       "        vertical-align: top;\n",
       "    }\n",
       "\n",
       "    .dataframe thead th {\n",
       "        text-align: right;\n",
       "    }\n",
       "</style>\n",
       "<table border=\"1\" class=\"dataframe\">\n",
       "  <thead>\n",
       "    <tr style=\"text-align: right;\">\n",
       "      <th></th>\n",
       "      <th>chain</th>\n",
       "      <th>r_current</th>\n",
       "      <th>r_proposed_next</th>\n",
       "      <th>g_ratio</th>\n",
       "      <th>p_ratio</th>\n",
       "      <th>likelihood_ratio</th>\n",
       "      <th>u</th>\n",
       "      <th>jump_accepted</th>\n",
       "    </tr>\n",
       "  </thead>\n",
       "  <tbody>\n",
       "    <tr>\n",
       "      <th>0</th>\n",
       "      <td>0</td>\n",
       "      <td>1.500000</td>\n",
       "      <td>1.414055</td>\n",
       "      <td>0.0</td>\n",
       "      <td>865.463839</td>\n",
       "      <td>865.463839</td>\n",
       "      <td>0.595765</td>\n",
       "      <td>1</td>\n",
       "    </tr>\n",
       "    <tr>\n",
       "      <th>1</th>\n",
       "      <td>1</td>\n",
       "      <td>1.414055</td>\n",
       "      <td>1.461336</td>\n",
       "      <td>0.0</td>\n",
       "      <td>-475.254443</td>\n",
       "      <td>-475.254443</td>\n",
       "      <td>0.809106</td>\n",
       "      <td>0</td>\n",
       "    </tr>\n",
       "    <tr>\n",
       "      <th>2</th>\n",
       "      <td>2</td>\n",
       "      <td>1.414055</td>\n",
       "      <td>1.325431</td>\n",
       "      <td>0.0</td>\n",
       "      <td>884.678907</td>\n",
       "      <td>884.678907</td>\n",
       "      <td>0.519236</td>\n",
       "      <td>1</td>\n",
       "    </tr>\n",
       "    <tr>\n",
       "      <th>3</th>\n",
       "      <td>3</td>\n",
       "      <td>1.325431</td>\n",
       "      <td>1.357036</td>\n",
       "      <td>0.0</td>\n",
       "      <td>-314.529924</td>\n",
       "      <td>-314.529924</td>\n",
       "      <td>0.588980</td>\n",
       "      <td>0</td>\n",
       "    </tr>\n",
       "    <tr>\n",
       "      <th>4</th>\n",
       "      <td>4</td>\n",
       "      <td>1.325431</td>\n",
       "      <td>1.315355</td>\n",
       "      <td>0.0</td>\n",
       "      <td>100.034146</td>\n",
       "      <td>100.034146</td>\n",
       "      <td>0.229320</td>\n",
       "      <td>1</td>\n",
       "    </tr>\n",
       "    <tr>\n",
       "      <th>...</th>\n",
       "      <td>...</td>\n",
       "      <td>...</td>\n",
       "      <td>...</td>\n",
       "      <td>...</td>\n",
       "      <td>...</td>\n",
       "      <td>...</td>\n",
       "      <td>...</td>\n",
       "      <td>...</td>\n",
       "    </tr>\n",
       "    <tr>\n",
       "      <th>995</th>\n",
       "      <td>995</td>\n",
       "      <td>0.174451</td>\n",
       "      <td>0.148263</td>\n",
       "      <td>0.0</td>\n",
       "      <td>-25.643453</td>\n",
       "      <td>-25.643453</td>\n",
       "      <td>0.438917</td>\n",
       "      <td>0</td>\n",
       "    </tr>\n",
       "    <tr>\n",
       "      <th>996</th>\n",
       "      <td>996</td>\n",
       "      <td>0.174451</td>\n",
       "      <td>0.323832</td>\n",
       "      <td>0.0</td>\n",
       "      <td>-472.203529</td>\n",
       "      <td>-472.203529</td>\n",
       "      <td>0.944943</td>\n",
       "      <td>0</td>\n",
       "    </tr>\n",
       "    <tr>\n",
       "      <th>997</th>\n",
       "      <td>997</td>\n",
       "      <td>0.174451</td>\n",
       "      <td>0.062343</td>\n",
       "      <td>0.0</td>\n",
       "      <td>-775.133319</td>\n",
       "      <td>-775.133319</td>\n",
       "      <td>0.675107</td>\n",
       "      <td>0</td>\n",
       "    </tr>\n",
       "    <tr>\n",
       "      <th>998</th>\n",
       "      <td>998</td>\n",
       "      <td>0.174451</td>\n",
       "      <td>0.195701</td>\n",
       "      <td>0.0</td>\n",
       "      <td>-13.275868</td>\n",
       "      <td>-13.275868</td>\n",
       "      <td>0.100293</td>\n",
       "      <td>0</td>\n",
       "    </tr>\n",
       "    <tr>\n",
       "      <th>999</th>\n",
       "      <td>999</td>\n",
       "      <td>0.174451</td>\n",
       "      <td>0.227692</td>\n",
       "      <td>0.0</td>\n",
       "      <td>-76.536317</td>\n",
       "      <td>-76.536317</td>\n",
       "      <td>0.253963</td>\n",
       "      <td>0</td>\n",
       "    </tr>\n",
       "  </tbody>\n",
       "</table>\n",
       "<p>1000 rows × 8 columns</p>\n",
       "</div>"
      ],
      "text/plain": [
       "     chain  r_current  r_proposed_next  g_ratio     p_ratio  likelihood_ratio  \\\n",
       "0        0   1.500000         1.414055      0.0  865.463839        865.463839   \n",
       "1        1   1.414055         1.461336      0.0 -475.254443       -475.254443   \n",
       "2        2   1.414055         1.325431      0.0  884.678907        884.678907   \n",
       "3        3   1.325431         1.357036      0.0 -314.529924       -314.529924   \n",
       "4        4   1.325431         1.315355      0.0  100.034146        100.034146   \n",
       "..     ...        ...              ...      ...         ...               ...   \n",
       "995    995   0.174451         0.148263      0.0  -25.643453        -25.643453   \n",
       "996    996   0.174451         0.323832      0.0 -472.203529       -472.203529   \n",
       "997    997   0.174451         0.062343      0.0 -775.133319       -775.133319   \n",
       "998    998   0.174451         0.195701      0.0  -13.275868        -13.275868   \n",
       "999    999   0.174451         0.227692      0.0  -76.536317        -76.536317   \n",
       "\n",
       "            u  jump_accepted  \n",
       "0    0.595765              1  \n",
       "1    0.809106              0  \n",
       "2    0.519236              1  \n",
       "3    0.588980              0  \n",
       "4    0.229320              1  \n",
       "..        ...            ...  \n",
       "995  0.438917              0  \n",
       "996  0.944943              0  \n",
       "997  0.675107              0  \n",
       "998  0.100293              0  \n",
       "999  0.253963              0  \n",
       "\n",
       "[1000 rows x 8 columns]"
      ]
     },
     "execution_count": 15,
     "metadata": {},
     "output_type": "execute_result"
    }
   ],
   "source": [
    "mcmc_output"
   ]
  },
  {
   "cell_type": "markdown",
   "id": "b4368fea",
   "metadata": {},
   "source": [
    "### Estimated value for parameter _r_:"
   ]
  },
  {
   "cell_type": "code",
   "execution_count": 23,
   "id": "08be806f-254a-4117-ac11-3c18a87bf16f",
   "metadata": {},
   "outputs": [],
   "source": [
    "rs=mcmc_output[250:][\"r_current\"]"
   ]
  },
  {
   "cell_type": "code",
   "execution_count": 27,
   "id": "8f8eb4c2",
   "metadata": {},
   "outputs": [
    {
     "data": {
      "text/plain": [
       "0.17458653816228809"
      ]
     },
     "execution_count": 27,
     "metadata": {},
     "output_type": "execute_result"
    }
   ],
   "source": [
    "r=rs.mean()\n",
    "r"
   ]
  },
  {
   "cell_type": "code",
   "execution_count": 35,
   "id": "b8a01049",
   "metadata": {},
   "outputs": [
    {
     "data": {
      "image/png": "[encoded data removed]",
      "text/plain": [
       "<Figure size 640x480 with 2 Axes>"
      ]
     },
     "metadata": {},
     "output_type": "display_data"
    }
   ],
   "source": [
    "fig, (ax1, ax2) = plt.subplots(1, 2)\n",
    "fig.suptitle('Results Comparison')\n",
    "\n",
    "ax1.hist(data.bact_pop,density=True, color=colors[5])\n",
    "ax1.set(xlabel='Bacteria Population', \n",
    "                            ylabel='Density',\n",
    "                            title='Observational Data'\n",
    "                           )\n",
    "\n",
    "ax2.hist( np.random.exponential(scale=1/r , size=1000) ,density=True, color=colors[4])\n",
    "ax2.set(xlabel='x', \n",
    "        ylabel='Density',\n",
    "       title='Posterior Distribution',\n",
    "       xlim=(0,20))\n",
    "plt.show()"
   ]
  },
  {
   "cell_type": "markdown",
   "id": "e07eba99",
   "metadata": {},
   "source": [
    "### Business Questions Answered?\n",
    "\n",
    "**1. What is the expected average bacteria amount for this habitat?**\n",
    "\n",
    "Knowing the form and parameters of the posterior distribution, we can use the formula for the Expected Value of a Poisson disribution...\n",
    "\n",
    "X ~ Poisson(λ)\n",
    "\n",
    "Expected Value = lambda = "
   ]
  },
  {
   "cell_type": "code",
   "execution_count": 36,
   "id": "13fabcfe",
   "metadata": {},
   "outputs": [
    {
     "data": {
      "text/plain": [
       "0.17458653816228809"
      ]
     },
     "execution_count": 36,
     "metadata": {},
     "output_type": "execute_result"
    }
   ],
   "source": [
    "# Lambda and Expected Value and Variance\n",
    "r"
   ]
  },
  {
   "cell_type": "markdown",
   "id": "7f8ce32d",
   "metadata": {},
   "source": [
    "**2. What is the probability that the bacteria population is greater than 8 in this habitat?**\n",
    "\n",
    "Knowing the form and parameters of the posterior distribution, we can use python's built-in Poisson CDF function...\n",
    "\n",
    "X ~ Poisson(λ)\n",
    "\n",
    "P(X>8) = "
   ]
  },
  {
   "cell_type": "code",
   "execution_count": 38,
   "id": "a80e4458",
   "metadata": {},
   "outputs": [
    {
     "data": {
      "text/plain": [
       "3.5493830097266255e-13"
      ]
     },
     "execution_count": 38,
     "metadata": {},
     "output_type": "execute_result"
    }
   ],
   "source": [
    "1- stats.poisson.cdf(8, r)"
   ]
  },
  {
   "cell_type": "markdown",
   "id": "2140c293",
   "metadata": {},
   "source": [
    "**3. What is the likelihood that a newly observed bacteria sample is part of this same population?**\n",
    "\n",
    "New obseration of population=3 comes in...\n",
    "\n",
    "X ~ Poisson(λ)\n",
    "\n",
    "_H0: λ=0.17_\n",
    "\n",
    "_H1: λ!=0.17_\n",
    "\n",
    "P(X<=3) < α, where α=0.05\n"
   ]
  },
  {
   "cell_type": "code",
   "execution_count": 41,
   "id": "a408ab46",
   "metadata": {},
   "outputs": [
    {
     "data": {
      "text/plain": [
       "False"
      ]
     },
     "execution_count": 41,
     "metadata": {},
     "output_type": "execute_result"
    }
   ],
   "source": [
    "stats.poisson.cdf(3, r) < 0.05"
   ]
  },
  {
   "cell_type": "markdown",
   "id": "1d91016c",
   "metadata": {},
   "source": [
    "We fail to reject the Null Hypothesis and have no reason to think this obs does not come from this population."
   ]
  },
  {
   "cell_type": "code",
   "execution_count": null,
   "id": "5f80cc6b",
   "metadata": {},
   "outputs": [],
   "source": []
  }
 ],
 "metadata": {
  "kernelspec": {
   "display_name": "Python 3 (ipykernel)",
   "language": "python",
   "name": "python3"
  },
  "language_info": {
   "codemirror_mode": {
    "name": "ipython",
    "version": 3
   },
   "file_extension": ".py",
   "mimetype": "text/x-python",
   "name": "python",
   "nbconvert_exporter": "python",
   "pygments_lexer": "ipython3",
   "version": "3.9.13"
  }
 },
 "nbformat": 4,
 "nbformat_minor": 5
}
